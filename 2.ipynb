{
 "cells": [
  {
   "cell_type": "code",
   "execution_count": null,
   "metadata": {},
   "outputs": [],
   "source": [
    "import os\n",
    "import pandas as pd\n",
    "import glob\n",
    "import cv2 as cv\n",
    "import numpy as np\n",
    "import pandas as pd\n",
    "from path import Path\n",
    "from tqdm import tqdm\n",
    "import nibabel as nib\n",
    "import tensorflow as tf\n",
    "from keras import layers\n",
    "from tensorflow import keras\n",
    "import tensorflow_hub as hub\n",
    "import matplotlib.pyplot as plt\n",
    "import requests\n",
    "import random\n",
    "from tensorflow.keras.utils import to_categorical\n",
    "from sklearn.model_selection import train_test_split\n",
    "from sklearn.model_selection import StratifiedKFold\n",
    "from pydicom.pixel_data_handlers.util import apply_voi_lut\n",
    "from keras_preprocessing.image import load_img, img_to_array\n",
    "from tensorflow.keras.models import Model\n",
    "from tensorflow.keras.layers import Input, Conv2D, MaxPooling2D, concatenate, Conv2DTranspose, BatchNormalization, Dropout, Lambda,Flatten,Dense\n",
    "from tensorflow.keras.optimizers import Adam\n",
    "from tensorflow.keras.metrics import MeanIoU\n",
    "from tensorflow.keras import regularizers\n",
    "from tensorflow.keras.applications import EfficientNetB3\n",
    "import torch\n",
    "import torchvision\n",
    "from torch.utils.data import Dataset,DataLoader\n",
    "import math\n",
    "from tensorflow.keras.callbacks import TensorBoard\n",
    "from tqdm.notebook import tqdm\n",
    "import time\n",
    "from keras.utils.vis_utils import plot_model"
   ]
  },
  {
   "cell_type": "code",
   "execution_count": null,
   "metadata": {},
   "outputs": [],
   "source": [
    "#             0           1        2         3          4          5\n",
    "names = ['chickenpox','cowpox','healthy','measles','monkeypox','smallpox']"
   ]
  },
  {
   "cell_type": "code",
   "execution_count": null,
   "metadata": {},
   "outputs": [],
   "source": [
    "aug_path= r\"D:\\Projects\\Kaggle\\Monkeypox\\augmented_images\"\n",
    "pre_path = r\"D:\\Projects\\Kaggle\\Monkeypox\\preprocessed_original_images\""
   ]
  },
  {
   "cell_type": "code",
   "execution_count": null,
   "metadata": {},
   "outputs": [],
   "source": [
    "class File():\n",
    "    def __init__(self,path,type) -> None:\n",
    "        self.path = path\n",
    "        self.type =type"
   ]
  },
  {
   "cell_type": "code",
   "execution_count": null,
   "metadata": {},
   "outputs": [],
   "source": [
    "data= []\n",
    "\n",
    "for name in names:\n",
    "    sec = name+\"\\*.jpg\"\n",
    "    images_path= os.path.abspath(os.path.join(aug_path,sec))\n",
    "    files = glob.glob(images_path)\n",
    "    for index,file in enumerate(files):\n",
    "        data.append(File(file,name))\n",
    "    images_path= os.path.abspath(os.path.join(pre_path,sec))\n",
    "    files = glob.glob(images_path)\n",
    "    for index,file in enumerate(files):\n",
    "        data.append(File(file,name))\n"
   ]
  },
  {
   "cell_type": "code",
   "execution_count": null,
   "metadata": {},
   "outputs": [],
   "source": [
    "data"
   ]
  },
  {
   "cell_type": "code",
   "execution_count": null,
   "metadata": {},
   "outputs": [],
   "source": [
    "random.shuffle(data)"
   ]
  },
  {
   "cell_type": "code",
   "execution_count": null,
   "metadata": {},
   "outputs": [],
   "source": [
    "class Data():\n",
    "    def __init__(self,matrix,type) -> None:\n",
    "        self.x = matrix\n",
    "        self.y =type\n",
    "        "
   ]
  },
  {
   "cell_type": "code",
   "execution_count": null,
   "metadata": {},
   "outputs": [],
   "source": [
    "data[0].path"
   ]
  },
  {
   "cell_type": "code",
   "execution_count": null,
   "metadata": {},
   "outputs": [],
   "source": [
    "def getdata(data,batch_size):\n",
    "    while True:\n",
    "        x, y= [],[] \n",
    "        for i in range(len(data)):\n",
    "            img=load_img(data[i].path,color_mode='rgb',target_size=(128,128),grayscale=False)\n",
    "            matrix = img_to_array(img)\n",
    "            x.append(matrix)\n",
    "            if data[i].type==\"chickenpox\":\n",
    "                y.append(0)\n",
    "            if data[i].type==\"cowpox\":\n",
    "                y.append(1)\n",
    "            if data[i].type==\"healthy\":\n",
    "                y.append(2)\n",
    "            if data[i].type==\"measles\":\n",
    "                y.append(3)\n",
    "            if data[i].type==\"monkeypox\":\n",
    "                y.append(4)\n",
    "            if data[i].type==\"smallpox\":\n",
    "                y.append(5)\n",
    "            if len(y) == batch_size:                    \n",
    "                        yield np.array(x),np.array(y)\n",
    "                        x, y= [],[] \n"
   ]
  },
  {
   "cell_type": "code",
   "execution_count": null,
   "metadata": {},
   "outputs": [],
   "source": [
    "len(data)"
   ]
  },
  {
   "cell_type": "code",
   "execution_count": null,
   "metadata": {},
   "outputs": [],
   "source": [
    "train_size = int(len(data)*0.7)+2\n",
    "val_size = int(len(data)*0.15)\n",
    "test_size = int(len(data)*0.15)\n",
    "print(f\"train size: {train_size}, val size: {val_size}, test size: {test_size}, sum: {train_size+test_size+val_size}\")"
   ]
  },
  {
   "cell_type": "code",
   "execution_count": null,
   "metadata": {},
   "outputs": [],
   "source": [
    "train_size/64"
   ]
  },
  {
   "cell_type": "code",
   "execution_count": null,
   "metadata": {},
   "outputs": [],
   "source": [
    "train_size%64"
   ]
  },
  {
   "cell_type": "code",
   "execution_count": null,
   "metadata": {},
   "outputs": [],
   "source": [
    "def get_model():\n",
    "    inp = keras.layers.Input((None, None ,3))\n",
    "    base_model= tf.keras.applications.efficientnet.EfficientNetB5(include_top=False, weights=\"imagenet\", pooling='max')(inp)\n",
    "    base_model.trainable=True\n",
    "   \n",
    "    x=BatchNormalization()(base_model)\n",
    "    x = keras.layers.Dense(256,activation='relu')(x)\n",
    "    x=Dropout(rate=.4, seed=123)(x)       \n",
    "    out = keras.layers.Dense(len(names), 'softmax')(x)\n",
    "    model = keras.models.Model(inp, out)\n",
    "    model.compile(loss=\"sparse_categorical_crossentropy\", optimizer = tf.keras.optimizers.Adam(learning_rate = 0.001),metrics=[\"accuracy\"])\n",
    "    return model"
   ]
  },
  {
   "cell_type": "code",
   "execution_count": null,
   "metadata": {},
   "outputs": [],
   "source": [
    "# j=0\n",
    "# train =[]\n",
    "\n",
    "# print(next(getdata(data,29646,64))[1])\n"
   ]
  },
  {
   "cell_type": "code",
   "execution_count": null,
   "metadata": {},
   "outputs": [],
   "source": [
    "train = data[:train_size]\n",
    "val=data[train_size:train_size+val_size]\n",
    "test=data[train_size+val_size:]"
   ]
  },
  {
   "cell_type": "code",
   "execution_count": null,
   "metadata": {},
   "outputs": [],
   "source": [
    "next(getdata(train,32))"
   ]
  },
  {
   "cell_type": "code",
   "execution_count": null,
   "metadata": {},
   "outputs": [],
   "source": [
    "def Visualiztion(history):\n",
    "    plt.plot(history.history['accuracy'])\n",
    "    plt.plot(history.history['val_accuracy'])\n",
    "    plt.title('model accuracy')\n",
    "    plt.ylabel('accuracy')\n",
    "    plt.xlabel('epoch')\n",
    "    plt.legend(['Train', 'Validation'], loc='upper left')\n",
    "    plt.show()\n",
    "    # summarize history for loss\n",
    "    plt.plot(history.history['loss'])\n",
    "    plt.plot(history.history['val_loss'])\n",
    "    plt.title('model loss')\n",
    "    plt.ylabel('loss')\n",
    "    plt.xlabel('epoch')\n",
    "    plt.legend(['Train', 'Validation'], loc='upper left')\n",
    "    plt.show()\n"
   ]
  },
  {
   "cell_type": "code",
   "execution_count": null,
   "metadata": {},
   "outputs": [],
   "source": [
    "\n",
    "model =get_model()\n",
    "\n",
    "history=model.fit(getdata(train,32),epochs=50\n",
    ",callbacks = [keras.callbacks.EarlyStopping(monitor = 'loss', patience = 2, restore_best_weights = True)],verbose = 1, validation_steps = len(val)//32 ,                        \n",
    "                                    steps_per_epoch = len(train)//32,validation_data = getdata(val, 32) )    \n",
    "Visualiztion(history)"
   ]
  },
  {
   "cell_type": "code",
   "execution_count": null,
   "metadata": {},
   "outputs": [],
   "source": [
    "model.evaluate(getdata(test,32))"
   ]
  },
  {
   "cell_type": "code",
   "execution_count": null,
   "metadata": {},
   "outputs": [],
   "source": [
    "model.save(\"model1.model\")"
   ]
  }
 ],
 "metadata": {
  "kernelspec": {
   "display_name": "Python 3.10.5 64-bit",
   "language": "python",
   "name": "python3"
  },
  "language_info": {
   "codemirror_mode": {
    "name": "ipython",
    "version": 3
   },
   "file_extension": ".py",
   "mimetype": "text/x-python",
   "name": "python",
   "nbconvert_exporter": "python",
   "pygments_lexer": "ipython3",
   "version": "3.10.5"
  },
  "orig_nbformat": 4,
  "vscode": {
   "interpreter": {
    "hash": "633bf2759fc0a7f4cda3481845fe7ea6530e49a0cd0358cdd14e096add1492c4"
   }
  }
 },
 "nbformat": 4,
 "nbformat_minor": 2
}
